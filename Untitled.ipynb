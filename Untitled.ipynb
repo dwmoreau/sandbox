{
 "cells": [
  {
   "cell_type": "code",
   "execution_count": 1,
   "id": "29b960f9",
   "metadata": {},
   "outputs": [
    {
     "data": {
      "text/plain": [
       "\"\\n- Why am I doing s_norm[:, :, 1] *= -1 in process panel\\n- Can I identify panels where I don't need to include in the optimization\\n\\nfile:\\n/net/dials/raid1/sauter/bernina/spectrum_masters/run_000795.JF07T32V01_master.h5\\n\\nVanessa converted the first frame to a cbf and put it at\\n/net/cci/voklejas/repos/dials/build/dials_data/converted.cbf\\n\\nPossible utilities\\n    /home/david/dials_dev/modules/dials/util/image_viewer/slip_viewer/tile_generation.py\\n\""
      ]
     },
     "execution_count": 1,
     "metadata": {},
     "output_type": "execute_result"
    }
   ],
   "source": [
    "\"\"\"\n",
    "- Why am I doing s_norm[:, :, 1] *= -1 in process panel\n",
    "- Can I identify panels where I don't need to include in the optimization\n",
    "\n",
    "file:\n",
    "/net/dials/raid1/sauter/bernina/spectrum_masters/run_000795.JF07T32V01_master.h5\n",
    "\n",
    "Vanessa converted the first frame to a cbf and put it at\n",
    "/net/cci/voklejas/repos/dials/build/dials_data/converted.cbf\n",
    "\n",
    "Possible utilities\n",
    "    /home/david/dials_dev/modules/dials/util/image_viewer/slip_viewer/tile_generation.py\n",
    "\"\"\""
   ]
  },
  {
   "cell_type": "code",
   "execution_count": 2,
   "id": "a2f51e6e",
   "metadata": {},
   "outputs": [],
   "source": [
    "import sys\n",
    "sys.path.append('/home/david/dials_dev/modules/dxtbx/src')\n",
    "sys.path.append('/home/david/dials_dev/build/lib')\n",
    "sys.path.append('/home/david/dials_dev/modules')\n",
    "from cctbx import factor_kev_angstrom\n",
    "from dials.array_family import flex\n",
    "import dxtbx\n",
    "#from dxtbx.model.experiment_list import ExperimentListFactory\n",
    "import math\n",
    "import matplotlib as mpl\n",
    "import matplotlib.pyplot as plt\n",
    "import numpy as np\n",
    "from scipy.optimize import minimize\n",
    "\n",
    "import Modules_Multipanel as MOD\n",
    "\n",
    "\n",
    "mpl.rc_file('matplotlibrc.txt')"
   ]
  },
  {
   "cell_type": "code",
   "execution_count": null,
   "id": "195614dd",
   "metadata": {},
   "outputs": [],
   "source": []
  }
 ],
 "metadata": {
  "kernelspec": {
   "display_name": "Python 3 (ipykernel)",
   "language": "python",
   "name": "python3"
  },
  "language_info": {
   "codemirror_mode": {
    "name": "ipython",
    "version": 3
   },
   "file_extension": ".py",
   "mimetype": "text/x-python",
   "name": "python",
   "nbconvert_exporter": "python",
   "pygments_lexer": "ipython3",
   "version": "3.9.7"
  }
 },
 "nbformat": 4,
 "nbformat_minor": 5
}
