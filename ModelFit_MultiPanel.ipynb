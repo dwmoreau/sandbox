{
 "cells": [
  {
   "cell_type": "code",
   "execution_count": null,
   "id": "6e6dd912",
   "metadata": {},
   "outputs": [],
   "source": [
    "\"\"\"\n",
    "Why am I doing s_norm[:, :, 1] *= -1 in process panel\n",
    "\n",
    "file:\n",
    "/net/dials/raid1/sauter/bernina/spectrum_masters/run_000795.JF07T32V01_master.h5\n",
    "\n",
    "Vanessa converted the first frame to a cbf and put it at\n",
    "/net/cci/voklejas/repos/dials/build/dials_data/converted.cbf\n",
    "\n",
    "Possible utilities\n",
    "    /home/david/dials_dev/modules/dials/util/image_viewer/slip_viewer/tile_generation.py\n",
    "\"\"\""
   ]
  },
  {
   "cell_type": "code",
   "execution_count": null,
   "id": "ac8c450d",
   "metadata": {},
   "outputs": [],
   "source": [
    "import sys\n",
    "sys.path.append('/home/david/dials_dev/modules/dxtbx/src')\n",
    "sys.path.append('/home/david/dials_dev/build/lib')\n",
    "sys.path.append('/home/david/dials_dev/modules')\n",
    "from cctbx import factor_kev_angstrom\n",
    "from dials.array_family import flex\n",
    "import dxtbx\n",
    "#from dxtbx.model.experiment_list import ExperimentListFactory\n",
    "import math\n",
    "import matplotlib as mpl\n",
    "import matplotlib.pyplot as plt\n",
    "import numpy as np\n",
    "from scipy.optimize import minimize\n",
    "\n",
    "import Modules_Multipanel as MOD\n",
    "\n",
    "\n",
    "mpl.rc_file('matplotlibrc.txt')"
   ]
  },
  {
   "cell_type": "code",
   "execution_count": null,
   "id": "e9a9120c",
   "metadata": {},
   "outputs": [],
   "source": [
    "image_file_name = '/home/david/Documents/Background/Data/converted.cbf'\n",
    "image = dxtbx.load(image_file_name)\n",
    "beam = image.get_beam()\n",
    "wavelength = beam.get_wavelength()\n",
    "data = image.get_raw_data()\n",
    "detector = image.get_detector()\n",
    "pixel_size = detector[0].get_pixel_size()[0]\n",
    "kapton_absorption_length = MOD.get_absorption_correction()(wavelength)"
   ]
  },
  {
   "cell_type": "code",
   "execution_count": null,
   "id": "eb51993a",
   "metadata": {},
   "outputs": [],
   "source": [
    "polarization_fraction = 1\n",
    "I, s, s_norm, mask, theta2, phi, polarization, integrated_image =\\\n",
    "    MOD.GetImage(data, detector, polarization_fraction)\n",
    "normalized_image = I / (polarization * integrated_image)"
   ]
  },
  {
   "cell_type": "code",
   "execution_count": null,
   "id": "6102e61e",
   "metadata": {},
   "outputs": [],
   "source": [
    "angle = 275 * np.pi/180\n",
    "h = 0.04\n",
    "f = 0.665\n",
    "t = 0.025\n",
    "f_range = 0.1\n",
    "absorption = MOD.IntegrateModel(angle, h, f, t, s_norm, kapton_absorption_length, f_range, n=3)\n",
    "absorption[mask] = -1"
   ]
  },
  {
   "cell_type": "code",
   "execution_count": null,
   "id": "353b0378",
   "metadata": {},
   "outputs": [],
   "source": [
    "def Fit(params, t, normalized_image, s_norm, mask, kapton_absorption_length):\n",
    "    angle = params[0]\n",
    "    h = params[1]\n",
    "    f = params[2]\n",
    "    absorption = MOD.IntegrateModel(angle, h, f, t, s_norm, kapton_absorption_length, 0.1, n=3)\n",
    "    residuals = (normalized_image - absorption)[np.invert(mask)]\n",
    "    print(angle * 180/np.pi)\n",
    "    print(h)\n",
    "    print(f)\n",
    "    print(np.linalg.norm(residuals))\n",
    "    print()\n",
    "    return np.linalg.norm(residuals)"
   ]
  },
  {
   "cell_type": "code",
   "execution_count": null,
   "id": "3b6c18eb",
   "metadata": {},
   "outputs": [],
   "source": [
    "def ProcessPanelFlat(data, panel):\n",
    "    I = data.as_numpy_array()\n",
    "    panel_shape = panel.get_image_size()\n",
    "    x, y = np.meshgrid(\n",
    "        np.linspace(0, panel_shape[0] - 1, panel_shape[0]),\n",
    "        np.linspace(0, panel_shape[1] - 1, panel_shape[1])\n",
    "        )\n",
    "    mm = panel.pixel_to_millimeter(flex.vec2_double(\n",
    "        flex.double(x.flatten()),\n",
    "        flex.double(y.flatten())\n",
    "        ))\n",
    "    s = panel.get_lab_coord(mm).as_numpy_array()\n",
    "    s_norm = (s.T / np.linalg.norm(s, axis=1)).T\n",
    "    s_norm[:, 2] *= -1  \n",
    "    return I, s, s_norm"
   ]
  },
  {
   "cell_type": "code",
   "execution_count": null,
   "id": "d96fa10a",
   "metadata": {},
   "outputs": [],
   "source": [
    "def GetImageFlat(data, detector, polarization_fraction):\n",
    "    I = np.zeros(16*16*254*254)\n",
    "    s = np.zeros((16*16*254*254, 3))\n",
    "    s_norm = np.zeros((16*16*254*254, 3))\n",
    "    mask = np.zeros(16*16*254*254, dtype=np.bool)\n",
    "    for index in range(16*16):\n",
    "        I_panel, s_panel, s_norm_panel = ProcessPanelFlat(data[index], detector[index])\n",
    "        start = index * 254*254\n",
    "        end = (index + 1) * 254*254\n",
    "        I[start: end] = I_panel\n",
    "        s[start: end] = s_panel\n",
    "        s_norm[start: end] = s_norm_panel\n",
    "    mask = np.logical_or(\n",
    "        mask,\n",
    "        I <= 0\n",
    "        )\n",
    "    R = np.sqrt(s[:, 0]**2 + s[:, 1]**2)\n",
    "    theta2 = np.arctan(R / np.abs(s[:, 2]))\n",
    "    phi = np.pi + np.arctan2(s[:, 1], s[:, 0])\n",
    "    polarization = (1 - polarization_fraction*np.cos(2*phi)*np.sin(theta2)**2 / (1+np.cos(theta2)**2))\n",
    "    theta2_int = np.linspace(0, 60, 121) * np.pi/180\n",
    "    integratation_indices = np.invert(mask)\n",
    "\n",
    "    integration_sum = np.histogram(\n",
    "        theta2[integratation_indices].flatten(),\n",
    "        bins=theta2_int,\n",
    "        weights=I[integratation_indices].flatten()\n",
    "        )\n",
    "    integration_counts = np.histogram(\n",
    "        theta2[integratation_indices].flatten(),\n",
    "        bins=theta2_int\n",
    "        )\n",
    "    bins = integration_counts[1]\n",
    "    bin_centers = (bins[1:] + bins[:-1])/2\n",
    "    integrated = integration_sum[0] / integration_counts[0]\n",
    "    indices = np.invert(np.isnan(integrated))\n",
    "    integrated_image = np.interp(theta2, bin_centers[indices], integrated[indices])\n",
    "    integrated_image[mask] = -1\n",
    "    return I, s, s_norm, mask, theta2, phi, polarization, integrated_image"
   ]
  },
  {
   "cell_type": "code",
   "execution_count": null,
   "id": "a0e89823",
   "metadata": {},
   "outputs": [],
   "source": []
  },
  {
   "cell_type": "code",
   "execution_count": null,
   "id": "1bd362cd",
   "metadata": {},
   "outputs": [],
   "source": [
    "results_fit = minimize(\n",
    "    Fit,\n",
    "    x0=(angle, h, f),\n",
    "    args=(t, normalized_image, s_norm, mask, kapton_absorption_length),\n",
    "    method='L-BFGS-B',\n",
    "    bounds=((0, 2*np.pi), (0.001, None), (0.001, None))\n",
    "    )\n",
    "angle_fit = results_fit.x[0]\n",
    "h_fit = results_fit.x[1]\n",
    "f_fit = results_fit.x[2]\n",
    "print(results_fit)"
   ]
  },
  {
   "cell_type": "code",
   "execution_count": null,
   "id": "1d3728a2",
   "metadata": {},
   "outputs": [],
   "source": [
    "D = detector[0].get_distance()\n",
    "delta = D * (h_fit + t) / f_fit\n",
    "alpha2 = angle_fit - 3/2 * np.pi\n",
    "b = delta / np.cos(alpha2)\n",
    "m = np.tan(alpha2)\n",
    " \n",
    "pixel_size = detector[0].get_pixel_size()[0]\n",
    "min_pos = np.zeros(2)\n",
    "max_pos = np.zeros(2)\n",
    "for index in range(16*16):\n",
    "    origin = detector[index].get_origin()\n",
    "    if origin[0] < min_pos[0]:\n",
    "        min_pos[0] = origin[0]\n",
    "    if origin[1] < min_pos[1]:\n",
    "        min_pos[1] = origin[1]\n",
    "    if origin[0] > max_pos[0]:\n",
    "        max_pos[0] = origin[0]\n",
    "    if origin[1] > max_pos[1]:\n",
    "        max_pos[1] = origin[1]\n",
    "\n",
    "max_pos += 256 * pixel_size\n",
    "y = np.array((0, max_pos[1] - min_pos[1]))\n",
    "y_pix = y / pixel_size\n",
    "b_pix = b / pixel_size\n",
    "x = m * (y + min_pos[1]) - b - min_pos[0]\n",
    "\"\"\"\n",
    "fig, axes = plt.subplots(1, 1, figsize=(20, 20))\n",
    "axes.imshow(absorption)\n",
    "axes.plot(x / pixel_size, y / pixel_size)\n",
    "plt.show()\n",
    "\"\"\"\n",
    "xx, yy = np.meshgrid(\n",
    "    np.linspace(0, I.shape[1]*pixel_size, I.shape[1]),\n",
    "    np.linspace(0, I.shape[0]*pixel_size, I.shape[0])\n",
    "    )\n",
    "delta_x = (xx - (m * (yy + min_pos[1]) - b - min_pos[0])) * np.cos(alpha2)\n",
    "\n",
    "\"\"\"\n",
    "fig, axes = plt.subplots(1, 1, figsize=(20, 20))\n",
    "axes.imshow(delta_x)\n",
    "axes.plot(x / pixel_size, y / pixel_size)\n",
    "plt.show()\n",
    "\"\"\""
   ]
  },
  {
   "cell_type": "code",
   "execution_count": null,
   "id": "3aa1a800",
   "metadata": {},
   "outputs": [],
   "source": [
    "delta_x_int = np.linspace(delta_x.min(), delta_x.max(), 100)\n",
    "bin_centers = (delta_x_int[1:] + delta_x_int[:-1]) / 2\n",
    "\n",
    "normalized_sum = np.histogram(\n",
    "    delta_x[np.invert(mask)].flatten(),\n",
    "    bins=delta_x_int,\n",
    "    weights=normalized_image[np.invert(mask)].flatten()\n",
    "    )\n",
    "absorption_sum = np.histogram(\n",
    "    delta_x[np.invert(mask)].flatten(),\n",
    "    bins=delta_x_int,\n",
    "    weights=absorption[np.invert(mask)].flatten()\n",
    "    )\n",
    "counts = np.histogram(\n",
    "    delta_x[np.invert(mask)].flatten(),\n",
    "    bins=delta_x_int\n",
    "    )\n",
    "averaged_absorption = absorption_sum[0] / counts[0]\n",
    "averaged_normalized = normalized_sum[0] / counts[0]\n",
    "\n",
    "fig, axes = plt.subplots(1, 1)\n",
    "axes.plot(bin_centers, averaged_normalized)\n",
    "axes.plot(bin_centers, averaged_absorption, linewidth=1)\n",
    "plt.show()"
   ]
  },
  {
   "cell_type": "markdown",
   "id": "1f85160e",
   "metadata": {},
   "source": [
    "absorption = MOD.IntegrateModel(angle_fit, h_fit, f_fit, t, s_norm, kapton_absorption_length, f_range, n=3)\n",
    "absorption[mask] = -1\n"
   ]
  },
  {
   "cell_type": "code",
   "execution_count": null,
   "id": "9a7a8e33",
   "metadata": {},
   "outputs": [],
   "source": [
    "fig, axes = plt.subplots(1, 2, figsize=(20, 20))\n",
    "axes[0].imshow(I / (polarization * integrated_image), vmin=0.8, vmax=1.2)\n",
    "axes[1].imshow(absorption, vmin=0.85, vmax=1)\n",
    "fig, axes = plt.subplots(1, 2, figsize=(20, 20))\n",
    "axes[0].imshow(normalized_image, vmin=0.9, vmax=1.1)\n",
    "axes[1].imshow(normalized_image / absorption, vmin=0.9, vmax=1.1)\n",
    "plt.show()\n"
   ]
  },
  {
   "cell_type": "code",
   "execution_count": null,
   "id": "3b3f2d58",
   "metadata": {},
   "outputs": [],
   "source": [
    "fig, axes = plt.subplots(3, 1, figsize=(20, 20))\n",
    "axes[0].imshow(I, vmin=0, vmax=600)\n",
    "axes[1].imshow(polarization)\n",
    "axes[2].imshow(integrated_image)\n",
    "plt.show()"
   ]
  },
  {
   "cell_type": "code",
   "execution_count": null,
   "id": "94940e67",
   "metadata": {},
   "outputs": [],
   "source": [
    "fig, axes = plt.subplots(3, 1, figsize=(20, 20))\n",
    "axes[0].imshow(I / polarization, vmin=0, vmax=600)\n",
    "axes[1].imshow(I / integrated_image, vmin=0.75, vmax=1.25)\n",
    "axes[2].imshow(I / (polarization * integrated_image), vmin=0.8, vmax=1.2)\n",
    "plt.show()"
   ]
  },
  {
   "cell_type": "code",
   "execution_count": null,
   "id": "50bf0b24",
   "metadata": {},
   "outputs": [],
   "source": []
  },
  {
   "cell_type": "code",
   "execution_count": null,
   "id": "2f070abb",
   "metadata": {},
   "outputs": [],
   "source": []
  }
 ],
 "metadata": {
  "kernelspec": {
   "display_name": "Python 3 (ipykernel)",
   "language": "python",
   "name": "python3"
  },
  "language_info": {
   "codemirror_mode": {
    "name": "ipython",
    "version": 3
   },
   "file_extension": ".py",
   "mimetype": "text/x-python",
   "name": "python",
   "nbconvert_exporter": "python",
   "pygments_lexer": "ipython3",
   "version": "3.9.7"
  }
 },
 "nbformat": 4,
 "nbformat_minor": 5
}
