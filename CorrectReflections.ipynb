{
 "cells": [
  {
   "cell_type": "code",
   "execution_count": null,
   "id": "6d612927",
   "metadata": {},
   "outputs": [],
   "source": [
    "from dials.array_family import flex\n",
    "from dxtbx.model.experiment_list import ExperimentList\n",
    "import numpy as np\n",
    "from kapton_water_correction import kapton_water_correction"
   ]
  },
  {
   "cell_type": "code",
   "execution_count": null,
   "id": "e2d02be3",
   "metadata": {},
   "outputs": [],
   "source": [
    "base = '/net/dials/raid1/dwmoreau/KaptonAbsorption/DeployedCode/'\n",
    "pedestal_rms_name = base +  'pedestal_rms.npy'\n",
    "refl_file_name = base + 'combined.refl'\n",
    "expt_file_name = base + 'combined.expt'\n",
    "save_to_dir = base + 'Results'\n",
    "\n",
    "refls = flex.reflection_table.from_file(refl_file_name)\n",
    "expts = ExperimentList.from_file(expt_file_name, check_format=False)\n",
    "\n",
    "bad_panels = [\n",
    "    1, 5, 16, 20, 40, 41, 42, 43, 44, 45, 46, 47, 176, 143, 180, 181,\n",
    "    193, 196, 197,\n",
    "    224, 225, 226, 227, 228, 229, 230, 231, 238, 239, 250, 251, 254, 255,\n",
    "    ]\n",
    "\n",
    "params = {\n",
    "    'load_results': False,\n",
    "    'plots': True,\n",
    "    'model': 'both',\n",
    "    'method': 'fit',\n",
    "    'rotation_angle_deg': -4,\n",
    "    'height_above_kapton_mm': 0.01,\n",
    "    'forward_distance_mm': 0.5,\n",
    "    'kapton_thickness_mm': 0.025,\n",
    "    'parallel_distance_fraction': 0.0,\n",
    "    'droplet_volume_ul': 0.250,\n",
    "    'droplet_contact_angle_deg': 45,\n",
    "    'scale':  0.95,\n",
    "    'binning': 16,\n",
    "    'pad': 2,\n",
    "    'polarization_fraction': 1,\n",
    "    'bad_panels': bad_panels,\n",
    "    'max_abs_point': 2000,\n",
    "    'multipanel': True,\n",
    "    'pedestal_rms_name': pedestal_rms_name,\n",
    "    'use_pedestal_rms': True,\n",
    "    'save_to_dir': save_to_dir,\n",
    "    'theta2_start_deg': 0,\n",
    "    'theta2_stop_deg': 60,\n",
    "    'theta2_step_deg': 1,\n",
    "    'theta2_step_err_deg': 4,\n",
    "    'n_phi_bins_err': 256,\n",
    "    'n_pixels_phi_bins_err': 10000\n",
    "    }"
   ]
  },
  {
   "cell_type": "code",
   "execution_count": null,
   "id": "835b46d0",
   "metadata": {
    "scrolled": true
   },
   "outputs": [],
   "source": [
    "correction_obj = kapton_water_correction(expts, refls, params)\n",
    "correction_obj()"
   ]
  },
  {
   "cell_type": "code",
   "execution_count": null,
   "id": "b4770a25",
   "metadata": {},
   "outputs": [],
   "source": [
    "model_uncertainty(self, setup)"
   ]
  }
 ],
 "metadata": {
  "kernelspec": {
   "display_name": "libtbx.python",
   "language": "python",
   "name": "libtbx.python"
  },
  "language_info": {
   "codemirror_mode": {
    "name": "ipython",
    "version": 3
   },
   "file_extension": ".py",
   "mimetype": "text/x-python",
   "name": "python",
   "nbconvert_exporter": "python",
   "pygments_lexer": "ipython3",
   "version": "3.9.10"
  }
 },
 "nbformat": 4,
 "nbformat_minor": 5
}
